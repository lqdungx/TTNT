{
  "nbformat": 4,
  "nbformat_minor": 0,
  "metadata": {
    "colab": {
      "provenance": [],
      "gpuType": "T4",
      "authorship_tag": "ABX9TyOizWns2mZwADlqEsJYM/WV",
      "include_colab_link": true
    },
    "kernelspec": {
      "name": "python3",
      "display_name": "Python 3"
    },
    "language_info": {
      "name": "python"
    },
    "accelerator": "GPU"
  },
  "cells": [
    {
      "cell_type": "markdown",
      "metadata": {
        "id": "view-in-github",
        "colab_type": "text"
      },
      "source": [
        "<a href=\"https://colab.research.google.com/github/lqdungx/TTNT/blob/main/CGAN_NMIST.ipynb\" target=\"_parent\"><img src=\"https://colab.research.google.com/assets/colab-badge.svg\" alt=\"Open In Colab\"/></a>"
      ]
    },
    {
      "cell_type": "code",
      "execution_count": 11,
      "metadata": {
        "colab": {
          "base_uri": "https://localhost:8080/"
        },
        "id": "JXe5K1M_rbq1",
        "outputId": "85bc83df-931e-458a-802d-e67b16e94cc1"
      },
      "outputs": [
        {
          "output_type": "stream",
          "name": "stdout",
          "text": [
            "Device: cuda\n"
          ]
        }
      ],
      "source": [
        "import torch\n",
        "import torch.nn as nn\n",
        "import torch.optim as optim\n",
        "import torch.nn.functional as F\n",
        "from torch.utils.data import DataLoader\n",
        "from torchvision import datasets, transforms, utils\n",
        "from tqdm import tqdm\n",
        "import os\n",
        "\n",
        "# Device\n",
        "device = torch.device(\"cuda\" if torch.cuda.is_available() else \"cpu\")\n",
        "print(\"Device:\", device)\n",
        "\n",
        "# Config\n",
        "batch_size = 128\n",
        "image_size = 28\n",
        "num_classes = 10\n",
        "nz = 100   # chiều noise vector\n",
        "sample_dir = \"./samples\"\n",
        "os.makedirs(sample_dir, exist_ok=True)\n"
      ]
    },
    {
      "cell_type": "code",
      "source": [
        "# Transform: scale ảnh về [-1,1]\n",
        "transform = transforms.Compose([\n",
        "    transforms.Resize(image_size),\n",
        "    transforms.ToTensor(),\n",
        "    transforms.Normalize([0.5], [0.5])\n",
        "])\n",
        "\n",
        "# Load MNIST\n",
        "train_dataset = datasets.MNIST(root=\"./data\", train=True, transform=transform, download=True)\n",
        "dataloader = DataLoader(train_dataset, batch_size=batch_size, shuffle=True)\n",
        "\n",
        "print(\"Số batch mỗi epoch:\", len(dataloader))\n"
      ],
      "metadata": {
        "colab": {
          "base_uri": "https://localhost:8080/"
        },
        "id": "Uh35A4Zqsk8s",
        "outputId": "b6247f03-2b5c-45f3-f097-ace28afdd66d"
      },
      "execution_count": 12,
      "outputs": [
        {
          "output_type": "stream",
          "name": "stdout",
          "text": [
            "Số batch mỗi epoch: 469\n"
          ]
        }
      ]
    },
    {
      "cell_type": "code",
      "source": [
        "def one_hot(labels, num_classes):\n",
        "    return F.one_hot(labels, num_classes).float()\n"
      ],
      "metadata": {
        "id": "e9J7wLuysqH6"
      },
      "execution_count": 13,
      "outputs": []
    },
    {
      "cell_type": "code",
      "source": [
        "class Generator(nn.Module):\n",
        "    def __init__(self, nz, num_classes, ngf=64):\n",
        "        super(Generator, self).__init__()\n",
        "        self.nz = nz\n",
        "        self.num_classes = num_classes\n",
        "        self.fc = nn.Linear(nz + num_classes, ngf*7*7)\n",
        "\n",
        "        self.net = nn.Sequential(\n",
        "            nn.BatchNorm2d(ngf),\n",
        "            nn.ConvTranspose2d(ngf, ngf//2, 4, 2, 1),\n",
        "            nn.BatchNorm2d(ngf//2),\n",
        "            nn.ReLU(True),\n",
        "            nn.ConvTranspose2d(ngf//2, 1, 4, 2, 1),\n",
        "            nn.Tanh()\n",
        "        )\n",
        "\n",
        "    def forward(self, z, labels_onehot):\n",
        "        x = torch.cat([z, labels_onehot], dim=1)  # (B, nz+num_classes)\n",
        "        x = self.fc(x)\n",
        "        x = x.view(-1, 64, 7, 7)\n",
        "        x = self.net(x)\n",
        "        return x\n",
        "\n",
        "\n",
        "class Discriminator(nn.Module):\n",
        "    def __init__(self, num_classes, ndf=64):\n",
        "        super(Discriminator, self).__init__()\n",
        "        self.num_classes = num_classes\n",
        "        self.net = nn.Sequential(\n",
        "            nn.Conv2d(1 + num_classes, ndf, 4, 2, 1),\n",
        "            nn.LeakyReLU(0.2, inplace=True),\n",
        "            nn.Conv2d(ndf, ndf*2, 4, 2, 1),\n",
        "            nn.BatchNorm2d(ndf*2),\n",
        "            nn.LeakyReLU(0.2, inplace=True),\n",
        "            nn.Flatten(),\n",
        "            nn.Linear(ndf*2*7*7, 1),\n",
        "            nn.Sigmoid()\n",
        "        )\n",
        "\n",
        "    def forward(self, img, labels_onehot):\n",
        "        b = img.size(0)\n",
        "        lab = labels_onehot.view(b, self.num_classes, 1, 1).expand(-1, self.num_classes, image_size, image_size)\n",
        "        x = torch.cat([img, lab], dim=1)  # concat theo channel\n",
        "        return self.net(x)\n"
      ],
      "metadata": {
        "id": "9_BfIjx6ssVy"
      },
      "execution_count": 14,
      "outputs": []
    },
    {
      "cell_type": "code",
      "source": [
        "netG = Generator(nz, num_classes).to(device)\n",
        "netD = Discriminator(num_classes).to(device)\n",
        "\n",
        "criterion = nn.BCELoss()\n",
        "optimizerD = optim.Adam(netD.parameters(), lr=0.0002, betas=(0.5, 0.999))\n",
        "optimizerG = optim.Adam(netG.parameters(), lr=0.0002, betas=(0.5, 0.999))\n",
        "\n",
        "real_label = 1.\n",
        "fake_label = 0.\n",
        "\n",
        "# fixed noise và nhãn để quan sát sự tiến triển\n",
        "fixed_noise = torch.randn(64, nz, device=device)\n",
        "fixed_labels = torch.arange(0, num_classes).repeat(6)[:64].to(device)\n",
        "fixed_labels_oh = one_hot(fixed_labels, num_classes).to(device)"
      ],
      "metadata": {
        "id": "4s58L9VLswVz"
      },
      "execution_count": 15,
      "outputs": []
    },
    {
      "cell_type": "code",
      "source": [
        "import torch.nn.functional as F\n",
        "from tqdm import tqdm\n",
        "\n",
        "# Tham số huấn luyện\n",
        "num_epochs = 30\n",
        "real_label = 1.0\n",
        "fake_label = 0.0\n",
        "iters = 0\n",
        "\n",
        "# Noise + nhãn cố định để theo dõi tiến trình sinh ảnh\n",
        "fixed_noise = torch.randn(64, nz, device=device)\n",
        "fixed_labels = torch.arange(10).repeat(7)[:64].to(device)   # 64 nhãn\n",
        "fixed_labels_oh = F.one_hot(fixed_labels, num_classes=num_classes).float()\n",
        "\n",
        "print(\"Start Training...\")\n",
        "\n",
        "for epoch in range(num_epochs):\n",
        "    pbar = tqdm(dataloader, desc=f\"Epoch {epoch+1}/{num_epochs}\")\n",
        "    for imgs, labels in pbar:\n",
        "        imgs = imgs.to(device)              # (B,1,28,28)\n",
        "        b_size = imgs.size(0)\n",
        "\n",
        "        # One-hot cho nhãn thật\n",
        "        labels_oh = F.one_hot(labels, num_classes=num_classes).float().to(device)\n",
        "\n",
        "        ### Train Discriminator ###\n",
        "        netD.zero_grad()\n",
        "        # ảnh thật\n",
        "        label_real = torch.full((b_size,), real_label, dtype=torch.float, device=device)\n",
        "        out_real = netD(imgs, labels_oh).view(-1)\n",
        "        errD_real = criterion(out_real, label_real)\n",
        "        errD_real.backward()\n",
        "\n",
        "        # ảnh giả\n",
        "        noise = torch.randn(b_size, nz, device=device)\n",
        "        random_labels = torch.randint(0, num_classes, (b_size,), device=device)\n",
        "        random_labels_oh = F.one_hot(random_labels, num_classes=num_classes).float()\n",
        "        fake_imgs = netG(noise, random_labels_oh)\n",
        "        label_fake = torch.full((b_size,), fake_label, dtype=torch.float, device=device)\n",
        "        out_fake = netD(fake_imgs.detach(), random_labels_oh).view(-1)\n",
        "        errD_fake = criterion(out_fake, label_fake)\n",
        "        errD_fake.backward()\n",
        "\n",
        "        optimizerD.step()\n",
        "\n",
        "        ### Train Generator ###\n",
        "        netG.zero_grad()\n",
        "        label_gen = torch.full((b_size,), real_label, dtype=torch.float, device=device)\n",
        "        out_fake2 = netD(fake_imgs, random_labels_oh).view(-1)\n",
        "        errG = criterion(out_fake2, label_gen)\n",
        "        errG.backward()\n",
        "        optimizerG.step()\n",
        "\n",
        "        ### In log\n",
        "        pbar.set_postfix({\n",
        "            \"Loss_D\": (errD_real+errD_fake).item(),\n",
        "            \"Loss_G\": errG.item()\n",
        "        })\n",
        "\n",
        "        ### Sinh ảnh mẫu định kỳ\n",
        "        if iters % 500 == 0:\n",
        "            with torch.no_grad():\n",
        "                fake_fixed = netG(fixed_noise, fixed_labels_oh).detach()\n",
        "            utils.save_image((fake_fixed+1)/2, f\"{sample_dir}/iter_{iters}.png\", nrow=8)\n",
        "        iters += 1\n"
      ],
      "metadata": {
        "colab": {
          "base_uri": "https://localhost:8080/"
        },
        "id": "B3b4IA2ssyuL",
        "outputId": "5f4bd721-048e-475d-ac14-66fd85ceeaa3"
      },
      "execution_count": 21,
      "outputs": [
        {
          "output_type": "stream",
          "name": "stdout",
          "text": [
            "Start Training...\n"
          ]
        },
        {
          "output_type": "stream",
          "name": "stderr",
          "text": [
            "Epoch 1/30: 100%|██████████| 469/469 [00:21<00:00, 21.44it/s, Loss_D=0.988, Loss_G=1.49]\n",
            "Epoch 2/30: 100%|██████████| 469/469 [00:21<00:00, 22.02it/s, Loss_D=0.665, Loss_G=1.32]\n",
            "Epoch 3/30: 100%|██████████| 469/469 [00:21<00:00, 22.04it/s, Loss_D=0.566, Loss_G=3.08]\n",
            "Epoch 4/30: 100%|██████████| 469/469 [00:21<00:00, 22.09it/s, Loss_D=0.917, Loss_G=1.88]\n",
            "Epoch 5/30: 100%|██████████| 469/469 [00:21<00:00, 22.03it/s, Loss_D=1.22, Loss_G=3.53]\n",
            "Epoch 6/30: 100%|██████████| 469/469 [00:21<00:00, 22.07it/s, Loss_D=0.294, Loss_G=3.57]\n",
            "Epoch 7/30: 100%|██████████| 469/469 [00:21<00:00, 22.11it/s, Loss_D=0.387, Loss_G=2.88]\n",
            "Epoch 8/30: 100%|██████████| 469/469 [00:21<00:00, 22.23it/s, Loss_D=2.05, Loss_G=3.55]\n",
            "Epoch 9/30: 100%|██████████| 469/469 [00:21<00:00, 21.90it/s, Loss_D=0.865, Loss_G=2.71]\n",
            "Epoch 10/30: 100%|██████████| 469/469 [00:21<00:00, 22.01it/s, Loss_D=0.883, Loss_G=3.36]\n",
            "Epoch 11/30: 100%|██████████| 469/469 [00:21<00:00, 21.99it/s, Loss_D=0.37, Loss_G=2.35]\n",
            "Epoch 12/30: 100%|██████████| 469/469 [00:21<00:00, 22.29it/s, Loss_D=0.585, Loss_G=3.42]\n",
            "Epoch 13/30: 100%|██████████| 469/469 [00:21<00:00, 22.02it/s, Loss_D=0.938, Loss_G=1.29]\n",
            "Epoch 14/30: 100%|██████████| 469/469 [00:21<00:00, 21.83it/s, Loss_D=0.428, Loss_G=2.42]\n",
            "Epoch 15/30: 100%|██████████| 469/469 [00:21<00:00, 21.89it/s, Loss_D=0.38, Loss_G=2.28]\n",
            "Epoch 16/30: 100%|██████████| 469/469 [00:20<00:00, 22.50it/s, Loss_D=0.563, Loss_G=1.9]\n",
            "Epoch 17/30: 100%|██████████| 469/469 [00:21<00:00, 22.11it/s, Loss_D=0.746, Loss_G=1.81]\n",
            "Epoch 18/30: 100%|██████████| 469/469 [00:21<00:00, 21.86it/s, Loss_D=0.5, Loss_G=2.23]\n",
            "Epoch 19/30: 100%|██████████| 469/469 [00:21<00:00, 22.05it/s, Loss_D=0.726, Loss_G=1.95]\n",
            "Epoch 20/30: 100%|██████████| 469/469 [00:20<00:00, 22.46it/s, Loss_D=0.268, Loss_G=2.25]\n",
            "Epoch 21/30: 100%|██████████| 469/469 [00:21<00:00, 21.79it/s, Loss_D=0.373, Loss_G=3.83]\n",
            "Epoch 22/30: 100%|██████████| 469/469 [00:21<00:00, 21.45it/s, Loss_D=1.17, Loss_G=5.98]\n",
            "Epoch 23/30: 100%|██████████| 469/469 [00:22<00:00, 21.07it/s, Loss_D=0.383, Loss_G=2.44]\n",
            "Epoch 24/30: 100%|██████████| 469/469 [00:22<00:00, 21.31it/s, Loss_D=0.408, Loss_G=2.93]\n",
            "Epoch 25/30: 100%|██████████| 469/469 [00:22<00:00, 21.32it/s, Loss_D=0.45, Loss_G=3.6]\n",
            "Epoch 26/30: 100%|██████████| 469/469 [00:21<00:00, 21.68it/s, Loss_D=0.313, Loss_G=2.53]\n",
            "Epoch 27/30: 100%|██████████| 469/469 [00:21<00:00, 21.45it/s, Loss_D=0.187, Loss_G=3.93]\n",
            "Epoch 28/30: 100%|██████████| 469/469 [00:21<00:00, 21.66it/s, Loss_D=0.795, Loss_G=3.07]\n",
            "Epoch 29/30: 100%|██████████| 469/469 [00:21<00:00, 22.00it/s, Loss_D=0.638, Loss_G=2.23]\n",
            "Epoch 30/30: 100%|██████████| 469/469 [00:21<00:00, 22.06it/s, Loss_D=1.07, Loss_G=4.45]\n"
          ]
        }
      ]
    },
    {
      "cell_type": "code",
      "source": [
        "import matplotlib.pyplot as plt\n",
        "\n",
        "def show_generated_digits(generator, nz, num_classes, device):\n",
        "    generator.eval()\n",
        "    fig, axes = plt.subplots(2, 5, figsize=(10,4))\n",
        "    for i in range(num_classes):\n",
        "        z = torch.randn(1, nz, device=device)\n",
        "        label = torch.tensor([i], device=device)\n",
        "        label_oh = F.one_hot(label, num_classes).float()\n",
        "        with torch.no_grad():\n",
        "            fake_img = generator(z, label_oh).cpu()\n",
        "        img = (fake_img.squeeze().numpy() + 1) / 2.0   # scale về [0,1]\n",
        "        ax = axes[i//5, i%5]\n",
        "        ax.imshow(img, cmap=\"gray\")\n",
        "        ax.set_title(f\"Digit {i}\")\n",
        "        ax.axis(\"off\")\n",
        "    plt.tight_layout()\n",
        "    plt.show()\n",
        "\n",
        "# Gọi thử\n",
        "show_generated_digits(netG, nz, num_classes, device)\n"
      ],
      "metadata": {
        "colab": {
          "base_uri": "https://localhost:8080/",
          "height": 410
        },
        "id": "-9Qga9MkzA70",
        "outputId": "aac283d4-52da-42d2-d03a-ab4be89ffe01"
      },
      "execution_count": 22,
      "outputs": [
        {
          "output_type": "display_data",
          "data": {
            "text/plain": [
              "<Figure size 1000x400 with 10 Axes>"
            ],
            "image/png": "[encoded data removed]"
          },
          "metadata": {}
        }
      ]
    }
  ]
}
